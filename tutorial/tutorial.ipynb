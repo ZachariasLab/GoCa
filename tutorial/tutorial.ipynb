{
 "cells": [
  {
   "cell_type": "markdown",
   "id": "65535a67",
   "metadata": {},
   "source": [
    "# GoCa tutorial\n",
    "This notebook is a tutorial and example of how to use the GoCa model to simulate and evaluate the assembly of protein complexes.\n",
    "\n",
    "Here, we simulate the assembly of a homotrimeric protein complex, the mammalian tumor associated antigen UK114 (PDB: [1NQ3](https://www.rcsb.org/structure/1nq3)). The following figure shows the crystal structure of the protein in a cartoon representation. We will use this crystal structure as the native conformation for our simulations.  \n",
    "<img src=\"https://cdn.rcsb.org/images/structures/1nq3_assembly-1.jpeg\" alt=\"drawing\" width=\"250\"/>\n",
    "\n",
    "The tutorial / application example consists of five steps:\n",
    "- Structure download and preparation\n",
    "- Generation of the GoCa model simulation files\n",
    "- Simulation with [Gromacs](https://www.gromacs.org/)\n",
    "- Trajectory processing\n",
    "- Simulation Analysis\n",
    "- Visualization of the trajectory with VMD"
   ]
  },
  {
   "cell_type": "markdown",
   "id": "53ff0e61",
   "metadata": {},
   "source": [
    "### Prerequisites:\n",
    "- Gromacs (see [here](https://manual.gromacs.org/current/install-guide/index.html) for installation instructions, any newer version (>=2018) should work)\n",
    "- `tleap` from AmberTools (see [here](https://ambermd.org/AmberTools.php) for installation instructions; we use this to add missing hydrogen atoms. In comparison to Amber, AmberTools is free. Alternatively, you can use any other tool to add missing hydrogen atoms to a protein structure.)\n",
    "- `g++` and `make` (for building the GoCa program binary)\n",
    "- `wget` for downloading files\n",
    "- `python3` for trajectory analysis\n",
    "- `VMD` to visualize the trajectories (other visualization tools can be used alternatively)\n",
    "- **Downloaded *GoCa* repository (where this tutorial is part of)**\n",
    "- **Install *GoCa* (please follow instructions in the [README](https://github.com/ZachariasLab/GoCa/blob/main/README.md) on github)**"
   ]
  },
  {
   "cell_type": "markdown",
   "id": "11b45657",
   "metadata": {},
   "source": [
    "## 0. File tree setup"
   ]
  },
  {
   "cell_type": "markdown",
   "id": "9786a038",
   "metadata": {},
   "source": [
    "The next cell contains the path to the root directory of the GoCa repository, the file path `fp`. If you execute this notebook in the default subdirectory of the repository, the root directory will be in `..`, if you move this notebook to a new location, you should adapt the path in the variable `fp`. In this case, also make sure that you copy the other necessary files with the notebook (`minimization.mdp`,`simulation.mdp`, `GoCa-config.ini` and eventually `simulation.vmd`)."
   ]
  },
  {
   "cell_type": "code",
   "execution_count": null,
   "id": "8b732027",
   "metadata": {},
   "outputs": [],
   "source": [
    "fp = '..'"
   ]
  },
  {
   "cell_type": "markdown",
   "id": "305602b5",
   "metadata": {},
   "source": [
    "We create a new directory to store all files, which are generated in the course of this tutorial. By deleting this directory you can easily restart the tutorial. The `output-worked` directory already contains all the files which will be generated during this tutorial. If you get stuck at any step, you can look there for the expected output."
   ]
  },
  {
   "cell_type": "code",
   "execution_count": null,
   "id": "f0ef0e33",
   "metadata": {},
   "outputs": [],
   "source": [
    "output = 'output'\n",
    "!mkdir {output}"
   ]
  },
  {
   "cell_type": "markdown",
   "id": "237be6a9",
   "metadata": {},
   "source": [
    "## 1. Structure preparation\n",
    "Now that everything is set up, we can start the first part of the tutorial. \n",
    "\n",
    "First, we download the input structure file from the PDB. Moreover, using the tool `sed`, we extract the first three chains (A, B, and C) from the `.pdb` file and remove all meta information. The original structure contains two copies of the protein trimer, therefore we want to extract only the first three chains."
   ]
  },
  {
   "cell_type": "code",
   "execution_count": null,
   "id": "36210c04",
   "metadata": {},
   "outputs": [],
   "source": [
    "!wget -O {output}/protein.pdb https://files.rcsb.org/download/1NQ3.pdb\n",
    "!sed -i '/^ATOM.*[A-Z]\\s[ABC]\\s/!d' {output}/protein.pdb"
   ]
  },
  {
   "cell_type": "markdown",
   "id": "47dbdc36",
   "metadata": {},
   "source": [
    "The first two chains are missing a serine amino acid at the beginning, while the third chain is missing an alanine at the end. For topology merging, we want all chains to have the same sequence. Therefore, for simplicity, we just remove the last amino acid from the first two chains and the first residue from the third chain."
   ]
  },
  {
   "cell_type": "code",
   "execution_count": null,
   "id": "92035f93",
   "metadata": {},
   "outputs": [],
   "source": [
    "!sed -i '/ALA A 135/d' {output}/protein.pdb\n",
    "!sed -i '/ALA B 135/d' {output}/protein.pdb\n",
    "!sed -i '/SER C   2/d' {output}/protein.pdb"
   ]
  },
  {
   "cell_type": "markdown",
   "id": "92bd473b",
   "metadata": {},
   "source": [
    "The downloaded structure file does not contain hydrogen atoms. Since the *GoCa* programs assume that input structures contain hydrogens by default, we add hydrogens using the `hydrogenize.sh` script. This script is part of the *GoCa* repository and uses the `tleap` program from the AmberTools package."
   ]
  },
  {
   "cell_type": "code",
   "execution_count": null,
   "id": "60f54c84",
   "metadata": {},
   "outputs": [],
   "source": [
    "!bash ./{fp}/hydrogenize.sh {output}/protein.pdb {output}/protein-h.pdb {output}/tleap.log\n",
    "!rm leap.log -v"
   ]
  },
  {
   "cell_type": "markdown",
   "id": "8094e397",
   "metadata": {},
   "source": [
    "The protein structure is now ready to be processed by the *GoCa* program."
   ]
  },
  {
   "cell_type": "markdown",
   "id": "9c896894",
   "metadata": {},
   "source": [
    "## 2. Generation of the CoCa model simulation files\n",
    "Before running the *GoCa* program, we can change various configuration parameters. However, the default configuration is a good start and sufficient for our example. We will use the configuration file included in the tutorial directory.  \n",
    "After the configuration file is prepared, we can finally run the *GoCa* program to generate the coarse-grained topology and coordinate file:"
   ]
  },
  {
   "cell_type": "code",
   "execution_count": null,
   "id": "1449bccc",
   "metadata": {},
   "outputs": [],
   "source": [
    "!./{fp}/GoCa GoCa-config.ini"
   ]
  },
  {
   "cell_type": "markdown",
   "id": "a3059949",
   "metadata": {},
   "source": [
    "The output directory contains a topology file (`.top`) and a structure file (`.gro`) now.  \n",
    "The topology file describes the interactions within our protein complex based on the native conformation we provided. We can use this custom force field for our simulation.  \n",
    "The coordinate file also contains the native conformation. However, we don't want our simulation to start with the assembled structure. Instead, we want to start with a disassembled configuration and simulate the assembly process. Therefore, we use a coordinate file with randomly placed homomeric protein subunits. To generate such a configuration, we first extract a single chain from the coordinate file (using the residue index of each coarse-grained bead):"
   ]
  },
  {
   "cell_type": "code",
   "execution_count": null,
   "id": "4489177f",
   "metadata": {},
   "outputs": [],
   "source": [
    "with open(f'{output}/output-single.gro', 'w') as output_file:\n",
    "    with open(f'{output}/output.gro', 'r') as input_file:\n",
    "        lines = input_file.readlines()\n",
    "        lines = [line for i, line in enumerate(lines) if i < 2 or i > len(lines) - 2 or int(line[:5]) == i - 1]\n",
    "        lines[1] = f'{len(lines) - 3}\\n'\n",
    "        output_file.write(''.join(lines))"
   ]
  },
  {
   "cell_type": "markdown",
   "id": "477d24a2",
   "metadata": {},
   "source": [
    "We use the GROMACS command `gmx insert-molecules` to generate the random configuration with three subunits and the same box size as in our assembled coarse-grained structure file:"
   ]
  },
  {
   "cell_type": "code",
   "execution_count": null,
   "id": "e3527939",
   "metadata": {
    "scrolled": true
   },
   "outputs": [],
   "source": [
    "box_size = ' '.join(lines[-1].split())\n",
    "!gmx insert-molecules -ci {output}/output-single.gro -o {output}/random.gro \\\n",
    "                      -box {box_size} -nmol 3 -try 100 -seed 4242"
   ]
  },
  {
   "cell_type": "markdown",
   "id": "eb6a3672",
   "metadata": {},
   "source": [
    "Now, everything is prepared to start the Gromacs simulation.\n",
    "\n",
    "Please note that we set explicitly set the seed for the randomized placement of the molecules. Thereby, we ensure reproducibility. For actual application, this might not be desired."
   ]
  },
  {
   "cell_type": "markdown",
   "id": "eb3f4f4f",
   "metadata": {},
   "source": [
    "## 3. Simulation"
   ]
  },
  {
   "cell_type": "markdown",
   "id": "d31c2024",
   "metadata": {},
   "source": [
    "Since we have randomly placed the protein subunits in the simulation box, it is safer to do an energy minimization first. This should be quick:"
   ]
  },
  {
   "cell_type": "code",
   "execution_count": null,
   "id": "66f41900",
   "metadata": {
    "scrolled": true
   },
   "outputs": [],
   "source": [
    "!gmx grompp -f minimization.mdp -p {output}/output.top -c {output}/random.gro \\\n",
    "            -o {output}/minimization.tpr -po {output}/minimization.mdp\n",
    "!gmx mdrun -deffnm {output}/minimization -ntmpi 1 -reprod"
   ]
  },
  {
   "cell_type": "markdown",
   "id": "2adaeab9",
   "metadata": {},
   "source": [
    "Then we run the assembly simulation. This may take a few minutes, depending on your hardware."
   ]
  },
  {
   "cell_type": "code",
   "execution_count": null,
   "id": "007d668e",
   "metadata": {
    "scrolled": true
   },
   "outputs": [],
   "source": [
    "!gmx grompp -f simulation.mdp -p {output}/output.top -c {output}/minimization.gro \\\n",
    "            -o {output}/simulation.tpr -po {output}/simulation.mdp\n",
    "!gmx mdrun -deffnm {output}/simulation -ntmpi 1 -reprod"
   ]
  },
  {
   "cell_type": "markdown",
   "id": "2fba3db4",
   "metadata": {},
   "source": [
    "After the simulation finished, we continue with the post-processing of the trajectories. \n",
    "\n",
    "Please note that we used the `-reprod` flag here. Thereby, we improve reproducibility of the simulations in this tutorial. In addition, we fixed the random seeds in the prepared input file `simulation.mdp`. For actual applications, we would refrain from doing that."
   ]
  },
  {
   "cell_type": "markdown",
   "id": "03a9a1d4",
   "metadata": {},
   "source": [
    "## 4. Trajectory Processing\n",
    "In the simulation we use periodic boundary conditions (PBC). Because these can make the analysis complicated, we use the Gromacs tool `gmx trjconv` with the option `-pbc cluster`. As a result, we obtain a trajectory which allows to observe the assembly of the protein complex."
   ]
  },
  {
   "cell_type": "code",
   "execution_count": null,
   "id": "b76a0d20",
   "metadata": {
    "scrolled": true
   },
   "outputs": [],
   "source": [
    "!echo -e 'System System System ' | \\\n",
    "gmx trjconv -f {output}/simulation.xtc -s {output}/simulation.tpr -o {output}/simulationNoPBC.xtc \\\n",
    "            -center -pbc cluster"
   ]
  },
  {
   "cell_type": "markdown",
   "id": "85585fd1",
   "metadata": {},
   "source": [
    "Due to the `-pbc cluster` option, jumps of individual, unassembled chains may occur between trajectory frames. However, this option ensures that already assembled parts of the protein complex are never separated by the periodic boundary conditions. Since we are more interested in the assembly of the complex than in the trajectories of the individual chains, this is not a problem."
   ]
  },
  {
   "cell_type": "markdown",
   "id": "63072607",
   "metadata": {},
   "source": [
    "## 5. Simulation Analysis"
   ]
  },
  {
   "cell_type": "markdown",
   "id": "6c9ff8c4",
   "metadata": {},
   "source": [
    "In the last part of this tutorial we will continue with the analysis of our simulation.  \n",
    "We will use some Python functions provided with the *GoCa* repository to extract different properties from the simulation trajectory.  \n",
    "We start by importing some Python packages:"
   ]
  },
  {
   "cell_type": "code",
   "execution_count": null,
   "id": "fea5824c",
   "metadata": {},
   "outputs": [],
   "source": [
    "import os\n",
    "import sys\n",
    "import numpy as np\n",
    "import pandas as pd\n",
    "import matplotlib.pyplot as plt\n",
    "sys.path.append(f'{fp}/evaluation')\n",
    "import analysis as goca_analysis\n",
    "import gromacs_analysis as goca_gmx_analysis"
   ]
  },
  {
   "cell_type": "markdown",
   "id": "495f748a",
   "metadata": {},
   "source": [
    "We load the processed trajectory, together with the coarse-grained topology and the structure of the native conformation into a `goca_gmx_analysis.GromacsTrajectory` object, which inherits from the `goca_analysis.Trajectory` class."
   ]
  },
  {
   "cell_type": "code",
   "execution_count": null,
   "id": "02d79f15",
   "metadata": {},
   "outputs": [],
   "source": [
    "trajectory = goca_gmx_analysis.GromacsTrajectory(\n",
    "    f'{output}/simulationNoPBC.xtc',\n",
    "    f'{output}/output.gro',\n",
    "    f'{output}/output.top'\n",
    ")"
   ]
  },
  {
   "cell_type": "markdown",
   "id": "eed3f271",
   "metadata": {},
   "source": [
    "### RMSD\n",
    "We start with the analysis of the [RMSD](https://en.wikipedia.org/wiki/Root-mean-square_deviation_of_atomic_positions) of the individual chains and of the entire complex. We iterate over all frames in the trajectory and calculate the RMSD from the native conformation:"
   ]
  },
  {
   "cell_type": "code",
   "execution_count": null,
   "id": "c43a6361",
   "metadata": {},
   "outputs": [],
   "source": [
    "chains_indices = [trajectory.get_chain_start_stop_indices(i) for i in range(3)] # Individual chains\n",
    "chains_indices += [(0, trajectory.size())] # Complete complex\n",
    "rmsd = np.empty((len(trajectory.get_trajectory()), len(chains_indices)))\n",
    "for i, frame in enumerate(trajectory.get_trajectory()):\n",
    "    rmsd[i] = [\n",
    "        goca_analysis.aligned_rmsd(\n",
    "            frame[cids[0]:cids[1]],\n",
    "            trajectory.get_initial_conformation()[cids[0]:cids[1]]\n",
    "        ) for cids in chains_indices\n",
    "    ]"
   ]
  },
  {
   "cell_type": "code",
   "execution_count": null,
   "id": "ce1d3c6f",
   "metadata": {},
   "outputs": [],
   "source": [
    "plt.figure(figsize=(12, 4))\n",
    "plt.plot(rmsd)\n",
    "plt.legend(['Chain 1', 'Chain 2', 'Chain 3', 'Assembled complex'])\n",
    "plt.ylabel('RMSD / nm')\n",
    "plt.xlabel('Simulation steps')\n",
    "plt.grid(alpha=0.3)\n",
    "plt.show()"
   ]
  },
  {
   "cell_type": "markdown",
   "id": "a4cd08ab",
   "metadata": {},
   "source": [
    "Since we start with a configuration of folded but disassembled chains, the RMSD of each chain is close to zero at the beginning of the trajectory. Furthermore, the RMSDs of the chains remain close to zero, i.e. they remain folded throughout the simulations. In contrast, the RMSD of the entire complex is not close to zero at the beginning of the simulation. However, during the simulation, the RMSD of the protein complex may eventually drop to a value close to zero. This indicates successful assembly of the complex. \n",
    "\n",
    "\n",
    "<figure>\n",
    "    <div style=\"float:left;margin-right:5px;\">\n",
    "    <img src=\"output-worked/regular_assembly.png\" alt=\"regular_assembly\" width=\"250px\"/> \n",
    "    </div> \n",
    "    <div style=\"float:left;margin-right:5px;\">\n",
    "    <img src=\"output-worked/permutated_assembly.png\" alt=\"permutated_assembly\" width=\"250px\"/>\n",
    "    </div> \n",
    "</figure>\n",
    "\n",
    "\n",
    "**However**, there is another possible scenario: Since GoCa allows for free permutation of identical chains, the complex may also assemble in a different order than in the crystal structure (visualized below). In this case, the RMSD of the complex with respect to the crystal structure, will never be close to zero. Let's continue our analysis to verify one or the other case.\n",
    "\n",
    "<p style=\"text-align:center;\">    \n",
    "The following image, included from the `output-worked` directory, shows what the result might look like. Here, the complex has assembled in the same arrangement as in the reference structure. </p>\n",
    "<img src=\"output-worked/RMSD.png\" alt=\"RMSD\" width=\"740px\"/>"
   ]
  },
  {
   "cell_type": "code",
   "execution_count": null,
   "id": "9b661305",
   "metadata": {},
   "outputs": [],
   "source": []
  },
  {
   "cell_type": "code",
   "execution_count": null,
   "id": "d26e637d",
   "metadata": {},
   "outputs": [],
   "source": []
  },
  {
   "cell_type": "markdown",
   "id": "725b1fbb",
   "metadata": {},
   "source": [
    "### Fraction of native contacts\n",
    "Furthermore, we can analyze the fraction of native contacts within and between the protein chains. Here, native contacts correspond to all native pairs in the topology file as derived from the native conformation. A logistic sigmoid cutoff is used to determine whether two coarse-grained beads form a native contact or not."
   ]
  },
  {
   "cell_type": "code",
   "execution_count": null,
   "id": "7d78f8cf",
   "metadata": {},
   "outputs": [],
   "source": [
    "fnc_intramolecular = trajectory.get_fraction_of_native_contacts_inside()\n",
    "fnc_intermolecular = trajectory.get_fraction_of_native_contacts_between()"
   ]
  },
  {
   "cell_type": "markdown",
   "id": "b0ccfb23",
   "metadata": {},
   "source": [
    "We plot both fraction of native contact evaluations in the same diagram. Since the topology contains intermolecular native pairs between all possible chain pair combinations and the final assembly contains only three chain pair contacts, we must multiply the intermolecular fraction of native contacts by a factor of three:"
   ]
  },
  {
   "cell_type": "code",
   "execution_count": null,
   "id": "25ec4ab0",
   "metadata": {},
   "outputs": [],
   "source": [
    "plt.figure(figsize=(12, 4))\n",
    "plt.plot(fnc_intramolecular, label=\"Intramolecular FNC\")\n",
    "plt.plot(fnc_intermolecular * 3, label=\"Intermolecular FNC\")\n",
    "plt.ylabel('Fraction of native contacts')\n",
    "plt.xlabel('Simulation steps')\n",
    "plt.grid(alpha=0.3)\n",
    "plt.legend()\n",
    "plt.show()"
   ]
  },
  {
   "cell_type": "markdown",
   "id": "8917a221",
   "metadata": {},
   "source": [
    "This graph complements the findings of the previous graph. The intramolecular FNC remains relatively constant throughout the trajectory (except for small fluctuations). In contrast, the intermolecular FNC starts at about zero. At some point, it suddenly increases and then remains relatively constant at that level for a while. Finally, it increases again and remains at this level (again with some fluctuations) until the end of the simulation. The intermolecular FNC indicates the two assembly steps of our trimeric protein complex: first, two subunits assemble into a dimer. Second, the dimer binds to the last free chain to form the final trimeric structure. *(If this does not happen in your simulation, you were quite unlucky. You may extend the simulation, or restart the simulation completely.)*  \n",
    "\n",
    "The following image, included from the `output-worked` directory, shows what the result might look like.  \n",
    "<img src=\"output-worked/FNC.png\" alt=\"Fraction of native contacts\" width=\"740px\"/>"
   ]
  },
  {
   "cell_type": "markdown",
   "id": "e2d004eb",
   "metadata": {},
   "source": [
    "### Assembly state clustering\n",
    "Finally, we can cluster all the trajectory frames into different assembly states. First, we transform each trajectory frame into a graph object. The nodes of the graph objects correspond to the chains of the protein complex. If two chains are bound, their nodes are connected by an edge. Afterwards, these graphs are used for the clustering of the assembly path."
   ]
  },
  {
   "cell_type": "code",
   "execution_count": null,
   "id": "478dfd59",
   "metadata": {},
   "outputs": [],
   "source": [
    "graphs = trajectory.get_chain_graph(logging=False)\n",
    "clusters, labels = trajectory.get_chain_formations(graphs, filtering=100)"
   ]
  },
  {
   "cell_type": "code",
   "execution_count": null,
   "id": "53090350",
   "metadata": {},
   "outputs": [],
   "source": [
    "plt.figure(figsize=(12, 4))\n",
    "plt.imshow(clusters, interpolation='nearest', aspect='auto', cmap='Greys', alpha = 0.8)\n",
    "plt.yticks(np.arange(0, len(labels)), labels)\n",
    "plt.ylabel('Assembly state')\n",
    "plt.xlabel('Simulation steps')\n",
    "plt.grid(alpha=0.3)\n",
    "plt.show()"
   ]
  },
  {
   "cell_type": "markdown",
   "id": "de8c7c46",
   "metadata": {},
   "source": [
    "This diagram shows, similar to the previous plot, the assembly path of the three protein chains. In the beginning, all chains are unbound (state 0). After a while, two chains form a dimer (state 2). Finally, the trimeric complex is formed (state 3). These results should be very consistent with the results above. *(If the complete assembly does not happen in your simulation, you were quite unlucky. You may extend the simulation, or restart the simulation completely.)*  \n",
    "\n",
    "The following image, included from the `output-worked` directory, shows what the result might look like.  \n",
    "<img src=\"output-worked/assembly_states.png\" alt=\"Assembly states\" width=\"740px\"/>"
   ]
  },
  {
   "cell_type": "markdown",
   "id": "4cbf7e24",
   "metadata": {},
   "source": [
    "## 6. Visualization of the trajectory with VMD"
   ]
  },
  {
   "cell_type": "markdown",
   "id": "96b8dcb0",
   "metadata": {},
   "source": [
    "To visualize the trajectory better, we convert the starting structure to the pdb format. In contrast to the gro format, it contains the information about different chains:\n"
   ]
  },
  {
   "cell_type": "code",
   "execution_count": null,
   "id": "e65f6019",
   "metadata": {},
   "outputs": [],
   "source": [
    "!echo \"System \" | gmx trjconv -s {output}/simulation.tpr -f {output}/minimization.gro -o {output}/start.pdb"
   ]
  },
  {
   "cell_type": "markdown",
   "id": "8266622b",
   "metadata": {},
   "source": [
    "In case you have installed VMD, you may visualize the trajectory, executing `vmd -e simulation.vmd`. \n",
    "Otherwise, you may use any other visualization tool to visualize the structure file `output/start.pdb` and the trajectory `output/simulationNoPBC.xtc`."
   ]
  }
 ],
 "metadata": {
  "kernelspec": {
   "display_name": "Python 3 (ipykernel)",
   "language": "python",
   "name": "python3"
  },
  "language_info": {
   "codemirror_mode": {
    "name": "ipython",
    "version": 3
   },
   "file_extension": ".py",
   "mimetype": "text/x-python",
   "name": "python",
   "nbconvert_exporter": "python",
   "pygments_lexer": "ipython3",
   "version": "3.9.7"
  },
  "toc": {
   "base_numbering": 1,
   "nav_menu": {},
   "number_sections": true,
   "sideBar": true,
   "skip_h1_title": false,
   "title_cell": "Table of Contents",
   "title_sidebar": "Contents",
   "toc_cell": false,
   "toc_position": {
    "height": "calc(100% - 180px)",
    "left": "10px",
    "top": "150px",
    "width": "369.594px"
   },
   "toc_section_display": true,
   "toc_window_display": true
  }
 },
 "nbformat": 4,
 "nbformat_minor": 5
}
