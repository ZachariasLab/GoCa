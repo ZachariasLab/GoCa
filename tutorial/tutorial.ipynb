{
 "cells": [
  {
   "cell_type": "markdown",
   "id": "65535a67",
   "metadata": {},
   "source": [
    "# GoCa tutorial\n",
    "This notebook is a tutorial and example of how to use the GoCa model to simulate and evaluate the assembly of protein complexes.\n",
    "\n",
    "Here, we simulate the assembly of a homotrimeric protein complex, the mammalian tumor associated antigen UK114 (PDB: [1NQ3](https://www.rcsb.org/structure/1nq3)). The following figure shows the crystal structure of the protein in a cartoon representation. We will use this crystal structure as the native conformation for our simulations.\n",
    "<img src=\"https://cdn.rcsb.org/images/structures/1nq3_assembly-1.jpeg\" alt=\"drawing\" width=\"250\"/>\n",
    "\n",
    "The tutorial / application example consists of five steps:\n",
    "- Structure download and preparation\n",
    "- Generation of the GoCa model simulation files\n",
    "- Simulation with [Gromacs](https://www.gromacs.org/)\n",
    "- Trajectory processing\n",
    "- Simulation evaluation"
   ]
  },
  {
   "cell_type": "markdown",
   "id": "53ff0e61",
   "metadata": {},
   "source": [
    "#### Prerequisites:\n",
    "- Gromacs (see [here](https://manual.gromacs.org/current/install-guide/index.html) for installation instructions, any newer version (>=2018) should work)\n",
    "- `tleap` from AmberTools (see [here](https://ambermd.org/AmberTools.php) for installation instructions; we use this to add missing hydrogen atoms. In comparison to Amber, AmberTools is free. Alternatively, you can use any other tool to add missing hydrogen atoms to a protein structure.)\n",
    "- `g++` and `make` (for building the GoCa program binary)\n",
    "- `wget` for downloading files\n",
    "- `python3` (for the analysis of the trajectories)\n",
    "- Downloaded *GoCa* repository (where this tutorial is part of)"
   ]
  },
  {
   "cell_type": "markdown",
   "id": "11b45657",
   "metadata": {},
   "source": [
    "## 0. Program setup"
   ]
  },
  {
   "cell_type": "markdown",
   "id": "9786a038",
   "metadata": {},
   "source": [
    "The next cell contains the path to the root directory of the GoCa repository. If you move this notebook to a new location, you should add the path to the repository in the following cell. Make sure you also move the included `.mdp` files."
   ]
  },
  {
   "cell_type": "code",
   "execution_count": 1,
   "id": "8b732027",
   "metadata": {},
   "outputs": [],
   "source": [
    "fp = '..'"
   ]
  },
  {
   "cell_type": "markdown",
   "id": "6eb80833",
   "metadata": {},
   "source": [
    "Now we will download the dependencies and build the GoCa program binary. If you have already done this, you can skip this step.\n",
    "\n",
    "\n",
    "(We will first save the current working directory, then switch to the GoCa repository to build the binary, and then switch back to the working directory)."
   ]
  },
  {
   "cell_type": "code",
   "execution_count": 2,
   "id": "02c3f760",
   "metadata": {},
   "outputs": [
    {
     "name": "stdout",
     "output_type": "stream",
     "text": [
      "g++ -O3 -I src/include/Eigen -fopenmp -MMD -MP -c src/files.cpp -o build/files.o\n",
      "g++ -O3 -I src/include/Eigen -fopenmp -MMD -MP -c src/bead.cpp -o build/bead.o\n",
      "g++ -O3 -I src/include/Eigen -fopenmp -MMD -MP -c src/config.cpp -o build/config.o\n",
      "g++ -O3 -I src/include/Eigen -fopenmp -MMD -MP -c src/GoCa.cpp -o build/GoCa.o\n",
      "g++ -O3 -I src/include/Eigen -fopenmp -MMD -MP -c src/system.cpp -o build/system.o\n",
      "g++ -O3 -I src/include/Eigen -fopenmp -MMD -MP -c src/chain.cpp -o build/chain.o\n",
      "g++ -fopenmp build/files.o build/bead.o build/config.o build/GoCa.o build/system.o build/chain.o -o GoCa\n"
     ]
    }
   ],
   "source": [
    "import os\n",
    "working_directory = os.getcwd()\n",
    "%cd -q {fp}\n",
    "!git submodule init\n",
    "!git submodule update\n",
    "!make\n",
    "%cd -q {working_directory}"
   ]
  },
  {
   "cell_type": "markdown",
   "id": "305602b5",
   "metadata": {},
   "source": [
    "We will create a new directory to store all generated files. By deleting this directory you can easily restart the tutorial. The `output-worked` directory already contains all the files we will generate during this tutorial. If you get stuck at any step, you can look there for the expected output."
   ]
  },
  {
   "cell_type": "code",
   "execution_count": 3,
   "id": "f0ef0e33",
   "metadata": {},
   "outputs": [],
   "source": [
    "output = 'output'\n",
    "!mkdir {output}"
   ]
  },
  {
   "cell_type": "markdown",
   "id": "237be6a9",
   "metadata": {},
   "source": [
    "## 1. Structure preparation\n",
    "Now that everything is set up, we can start the first part of the tutorial. \n",
    "\n",
    "First, we download our input structure file from the PDB. Moreover, using the tool `sed`, we extract the first three chains (A, B, and C) from the `.pdb` file and remove all meta information. The original structure contains two copies of the protein trimer, therefore we want to extract only the first three chains."
   ]
  },
  {
   "cell_type": "code",
   "execution_count": 4,
   "id": "36210c04",
   "metadata": {},
   "outputs": [
    {
     "name": "stdout",
     "output_type": "stream",
     "text": [
      "--2024-01-21 22:31:01--  https://files.rcsb.org/download/1NQ3.pdb\n",
      "Resolving files.rcsb.org (files.rcsb.org)... 128.6.159.157\n",
      "Connecting to files.rcsb.org (files.rcsb.org)|128.6.159.157|:443... connected.\n",
      "HTTP request sent, awaiting response... 200 OK\n",
      "Length: unspecified [application/octet-stream]\n",
      "Saving to: ‘output/protein.pdb’\n",
      "\n",
      "output/protein.pdb      [   <=>              ] 524,76K   994KB/s    in 0,5s    \n",
      "\n",
      "2024-01-21 22:31:02 (994 KB/s) - ‘output/protein.pdb’ saved [537354]\n",
      "\n"
     ]
    }
   ],
   "source": [
    "!wget -O {output}/protein.pdb https://files.rcsb.org/download/1NQ3.pdb\n",
    "!sed -i '/^ATOM.*[A-Z]\\s[ABC]\\s/!d' {output}/protein.pdb"
   ]
  },
  {
   "cell_type": "markdown",
   "id": "47dbdc36",
   "metadata": {},
   "source": [
    "The first two chains are missing a serine amino acid at the beginning, while the third chain is missing an alanine at the end. For topology merging, we want all chains to have the same sequence. Therefore, for simplicity, we just remove the last amino acid from the first two chains and the first residue from the third chain."
   ]
  },
  {
   "cell_type": "code",
   "execution_count": 5,
   "id": "92035f93",
   "metadata": {},
   "outputs": [],
   "source": [
    "!sed -i '/ALA A 135/d' {output}/protein.pdb\n",
    "!sed -i '/ALA B 135/d' {output}/protein.pdb\n",
    "!sed -i '/SER C   2/d' {output}/protein.pdb"
   ]
  },
  {
   "cell_type": "markdown",
   "id": "92bd473b",
   "metadata": {},
   "source": [
    "The downloaded structure file does not contain hydrogen atoms. Since the *GoCa* programs assume that input structures contain hydrogens by default, we add hydrogens using the `hydrogenize.sh` script. This script is part of the *GoCa* repository and uses the `tleap` program from the AmberTools package."
   ]
  },
  {
   "cell_type": "code",
   "execution_count": 6,
   "id": "60f54c84",
   "metadata": {},
   "outputs": [],
   "source": [
    "!./{fp}/hydrogenize.sh {output}/protein.pdb {output}/protein-h.pdb {output}/tleap.log\n",
    "!rm leap.log"
   ]
  },
  {
   "cell_type": "markdown",
   "id": "8094e397",
   "metadata": {},
   "source": [
    "The protein structure is now ready to be processed by the *GoCa* program."
   ]
  },
  {
   "cell_type": "markdown",
   "id": "9c896894",
   "metadata": {},
   "source": [
    "## 2. Generation of the CoCa model simulation files\n",
    "Before running the *GoCa* program, we can change various configuration parameters. However, the default configuration is a good start and sufficient for our example. We will use the configuration file included in the tutorial directory.  \n",
    "After the configuration file is prepared, we can finally run the *GoCa* program to generate the coarse-grained topology and coordinate file:"
   ]
  },
  {
   "cell_type": "code",
   "execution_count": 7,
   "id": "1449bccc",
   "metadata": {},
   "outputs": [
    {
     "name": "stdout",
     "output_type": "stream",
     "text": [
      "1. Generating coarse grained model\n",
      "Info: Reading protein file: output/protein-h.pdb\n",
      "Info: Got a total of 396 Cα-atoms from 5916 atoms in 3 chain(s)\n",
      "2. Calculating native contacts\n",
      "Info: Got 1 merged chain from originally 3 chains\n",
      "Chain 1: SLVRRIISTAKAPAAIGPYSQAVLVDRTIYISGQLGMDPASGQLVPGGVVEEAKQALTNIGEILKAAGCDFTNVVKATVLLADINDFSAVNDVYKQYFQSSFPARAAYQVAALPKGGRVEIEAIAVQGPLTT\n",
      "Chain 2: SLVRRIISTAKAPAAIGPYSQAVLVDRTIYISGQLGMDPASGQLVPGGVVEEAKQALTNIGEILKAAGCDFTNVVKATVLLADINDFSAVNDVYKQYFQSSFPARAAYQVAALPKGGRVEIEAIAVQGPLTT\n",
      "Chain 3: SLVRRIISTAKAPAAIGPYSQAVLVDRTIYISGQLGMDPASGQLVPGGVVEEAKQALTNIGEILKAAGCDFTNVVKATVLLADINDFSAVNDVYKQYFQSSFPARAAYQVAALPKGGRVEIEAIAVQGPLTT\n",
      "3. Writing topology file to output/output.top\n",
      "Warning: 2 dihedrals were ignored because adjoining bond angles were close to 180°.\n",
      "4. Writing coordinate file to output/output.gro\n"
     ]
    }
   ],
   "source": [
    "!./{fp}/GoCa GoCa-config.ini"
   ]
  },
  {
   "cell_type": "markdown",
   "id": "a3059949",
   "metadata": {},
   "source": [
    "The output directory contains a `.top` and a `.gro` file now.  \n",
    "The topology file describes the interactions within our protein complex based on the native conformation we provided. We can use this custom force field for our simulation.  \n",
    "The coordinate file also contains the native conformation. However, we don't want our simulation to start with the assembled structure. Instead, we want to start with a disassembled configuration and simulate the assembly process. Therefore, we use a coordinate file with randomly placed homomeric protein subunits. To generate such a configuration, we first extract a single chain from the coordinate file (using the residue index of each coarse-grained bead):"
   ]
  },
  {
   "cell_type": "code",
   "execution_count": 8,
   "id": "4489177f",
   "metadata": {},
   "outputs": [],
   "source": [
    "with open(f'{output}/output-single.gro', 'w') as output_file:\n",
    "    with open(f'{output}/output.gro', 'r') as input_file:\n",
    "        lines = input_file.readlines()\n",
    "        lines = [line for i, line in enumerate(lines) if i < 2 or i > len(lines) - 2 or int(line[:5]) == i - 1]\n",
    "        lines[1] = f'{len(lines) - 3}\\n'\n",
    "        output_file.write(''.join(lines))"
   ]
  },
  {
   "cell_type": "markdown",
   "id": "477d24a2",
   "metadata": {},
   "source": [
    "We use the GROMACS command `gmx insert-molecules` to generate the random configuration with three subunits and the same box size as in our assembled coarse-grained structure file:"
   ]
  },
  {
   "cell_type": "code",
   "execution_count": 9,
   "id": "e3527939",
   "metadata": {
    "scrolled": true
   },
   "outputs": [
    {
     "name": "stdout",
     "output_type": "stream",
     "text": [
      "                  :-) GROMACS - gmx insert-molecules, 2022 (-:\r\n",
      "\r\n",
      "Executable:   /usr/local/gromacs/bin/gmx\r\n",
      "Data prefix:  /usr/local/gromacs\r\n",
      "Working dir:  /home/GoCa/tutorial\r\n",
      "Command line:\r\n",
      "  gmx insert-molecules -ci output/output-single.gro -o output/random.gro -box 11.24990 10.96070 11.39100 -nmol 3 -try 100\r\n",
      "\r\n",
      "Initialising inter-atomic distances...\r\n",
      "\r\n",
      "WARNING: Masses and atomic (Van der Waals) radii will be guessed\r\n",
      "         based on residue and atom names, since they could not be\r\n",
      "         definitively assigned from the information in your input\r\n",
      "         files. These guessed numbers might deviate from the mass\r\n",
      "         and radius of the atom type. Please check the output\r\n",
      "         files if necessary. Note, that this functionality may\r\n",
      "         be removed in a future GROMACS version. Please, consider\r\n",
      "         using another file format for your input.\r\n",
      "\r\n",
      "NOTE: From version 5.0 gmx insert-molecules uses the Van der Waals radii\r\n",
      "from the source below. This means the results may be different\r\n",
      "compared to previous GROMACS versions.\r\n",
      "\r\n",
      "++++ PLEASE READ AND CITE THE FOLLOWING REFERENCE ++++\r\n",
      "A. Bondi\r\n",
      "van der Waals Volumes and Radii\r\n",
      "J. Phys. Chem. 68 (1964) pp. 441-451\r\n",
      "-------- -------- --- Thank You --- -------- --------\r\n",
      "\r\n",
      "Using random seed -1080852565\r\n",
      "\r\n",
      "Try 1 success (now 132 atoms)!\r\n",
      "\r\n",
      "Try 2 success (now 264 atoms)!\r\n",
      "\r\n",
      "Try 3 success (now 396 atoms)!\r\n",
      "\r\n",
      "Added 3 molecules (out of 3 requested)\r\n",
      "Writing generated configuration to output/random.gro\r\n",
      "\r\n",
      "Output configuration contains 396 atoms in 396 residues\r\n",
      "\r\n",
      "GROMACS reminds you: \"What about my nose?\" (Aneesur Rahman, responding to an Argonne manager arguing the long hair of Charles Bennett in his group was disreputing the lab; Retold by Michael Klein)\r\n",
      "\r\n"
     ]
    }
   ],
   "source": [
    "box_size = ' '.join(lines[-1].split())\n",
    "!gmx insert-molecules -ci {output}/output-single.gro -o {output}/random.gro -box {box_size} -nmol 3 -try 100"
   ]
  },
  {
   "cell_type": "markdown",
   "id": "eb6a3672",
   "metadata": {},
   "source": [
    "Now, everything is prepared to start the Gromacs simulation."
   ]
  },
  {
   "cell_type": "markdown",
   "id": "eb3f4f4f",
   "metadata": {},
   "source": [
    "## 3. Simulation"
   ]
  },
  {
   "cell_type": "markdown",
   "id": "d31c2024",
   "metadata": {},
   "source": [
    "Since we have randomly placed the protein subunits in the simulation box, it is safer to do an energy minimization first. Then we run the assembly simulation. This may take a few minutes, depending on your hardware."
   ]
  },
  {
   "cell_type": "code",
   "execution_count": 10,
   "id": "66f41900",
   "metadata": {
    "scrolled": true
   },
   "outputs": [
    {
     "name": "stdout",
     "output_type": "stream",
     "text": [
      "                       :-) GROMACS - gmx grompp, 2022 (-:\n",
      "\n",
      "Executable:   /usr/local/gromacs/bin/gmx\n",
      "Data prefix:  /usr/local/gromacs\n",
      "Working dir:  /home/GoCa/tutorial\n",
      "Command line:\n",
      "  gmx grompp -f minimization.mdp -p output/output.top -c output/random.gro -o output/minimization.tpr -po output/minimization.mdp\n",
      "\n",
      "Setting the LD random seed to 1060793585\n",
      "\n",
      "Generated 1113 of the 1176 non-bonded parameter combinations\n",
      "\n",
      "Excluding 3 bonded neighbours molecule type 'Molecule0'\n",
      "Analysing residue names:\n",
      "There are:   396    Protein residues\n",
      "Analysing Protein...\n",
      "Number of degrees of freedom in T-Coupling group rest is 1185.00\n",
      "\n",
      "This run will generate roughly 0 Mb of data\n",
      "\n",
      "GROMACS reminds you: \"I originally implemented PME to prove that you didn't need it...\" (Erik Lindahl)\n",
      "\n",
      "                       :-) GROMACS - gmx mdrun, 2022 (-:\n",
      "\n",
      "Executable:   /usr/local/gromacs/bin/gmx\n",
      "Data prefix:  /usr/local/gromacs\n",
      "Working dir:  /home/GoCa/tutorial\n",
      "Command line:\n",
      "  gmx mdrun -deffnm output/minimization\n",
      "\n",
      "Reading file output/minimization.tpr, VERSION 2022 (single precision)\n",
      "\n",
      "NOTE: Parallelization is limited by the small number of atoms,\n",
      "      only starting 1 thread-MPI ranks.\n",
      "      You can use the -nt and/or -ntmpi option to optimize the number of threads.\n",
      "\n",
      "1 GPU selected for this run.\n",
      "Mapping of GPU IDs to the 1 GPU task in the 1 rank on this node:\n",
      "  PP:0\n",
      "PP tasks will do (non-perturbed) short-ranged interactions on the GPU\n",
      "PP task will update and constrain coordinates on the CPU\n",
      "Using 1 MPI thread\n",
      "Using 12 OpenMP threads \n",
      "\n",
      "\n",
      "Steepest Descents:\n",
      "   Tolerance (Fmax)   =  1.00000e+02\n",
      "   Number of steps    =        50000\n",
      "\n",
      "writing lowest energy coordinates.\n",
      "\n",
      "Steepest Descents converged to Fmax < 100 in 4 steps\n",
      "Potential Energy  = -1.6433163e+02\n",
      "Maximum force     =  9.5225067e+01 on atom 128\n",
      "Norm of force     =  1.6628028e+01\n",
      "\n",
      "GROMACS reminds you: \"I originally implemented PME to prove that you didn't need it...\" (Erik Lindahl)\n",
      "\n"
     ]
    }
   ],
   "source": [
    "!gmx grompp -f minimization.mdp -p {output}/output.top -c {output}/random.gro -o {output}/minimization.tpr -po {output}/minimization.mdp\n",
    "!gmx mdrun -deffnm {output}/minimization"
   ]
  },
  {
   "cell_type": "code",
   "execution_count": 11,
   "id": "007d668e",
   "metadata": {
    "scrolled": true
   },
   "outputs": [
    {
     "name": "stdout",
     "output_type": "stream",
     "text": [
      "                       :-) GROMACS - gmx grompp, 2022 (-:\n",
      "\n",
      "Executable:   /usr/local/gromacs/bin/gmx\n",
      "Data prefix:  /usr/local/gromacs\n",
      "Working dir:  /home/GoCa/tutorial\n",
      "Command line:\n",
      "  gmx grompp -f simulation.mdp -p output/output.top -c output/minimization.gro -o output/simulation.tpr -po output/simulation.mdp\n",
      "\n",
      "Setting the LD random seed to 2113621878\n",
      "\n",
      "Generated 1113 of the 1176 non-bonded parameter combinations\n",
      "\n",
      "Excluding 3 bonded neighbours molecule type 'Molecule0'\n",
      "\n",
      "turning all bonds into constraints...\n",
      "\n",
      "Setting gen_seed to -1814110357\n",
      "\n",
      "Velocities were taken from a Maxwell distribution at 40 K\n",
      "Analysing residue names:\n",
      "There are:   396    Protein residues\n",
      "Analysing Protein...\n",
      "Number of degrees of freedom in T-Coupling group System is 792.00\n",
      "\n",
      "Determining Verlet buffer for a tolerance of 0.005 kJ/mol/ps at 35 K\n",
      "\n",
      "Calculated rlist for 1x1 atom pair-list as 4.000 nm, buffer size 0.000 nm\n",
      "\n",
      "Set rlist, assuming 4x4 atom pair-list, to 4.000 nm, buffer size 0.000 nm\n",
      "\n",
      "Note that mdrun will redetermine rlist based on the actual pair-list setup\n",
      "\n",
      "This run will generate roughly 99 Mb of data\n",
      "\n",
      "GROMACS reminds you: \"I originally implemented PME to prove that you didn't need it...\" (Erik Lindahl)\n",
      "\n",
      "                       :-) GROMACS - gmx mdrun, 2022 (-:\n",
      "\n",
      "Executable:   /usr/local/gromacs/bin/gmx\n",
      "Data prefix:  /usr/local/gromacs\n",
      "Working dir:  /home/GoCa/tutorial\n",
      "Command line:\n",
      "  gmx mdrun -deffnm output/simulation\n",
      "\n",
      "Reading file output/simulation.tpr, VERSION 2022 (single precision)\n",
      "\n",
      "NOTE: Parallelization is limited by the small number of atoms,\n",
      "      only starting 1 thread-MPI ranks.\n",
      "      You can use the -nt and/or -ntmpi option to optimize the number of threads.\n",
      "\n",
      "Changing nstlist from 20 to 100, rlist from 4 to 4\n",
      "\n",
      "1 GPU selected for this run.\n",
      "Mapping of GPU IDs to the 1 GPU task in the 1 rank on this node:\n",
      "  PP:0\n",
      "PP tasks will do (non-perturbed) short-ranged interactions on the GPU\n",
      "PP task will update and constrain coordinates on the CPU\n",
      "Using 1 MPI thread\n",
      "Using 12 OpenMP threads \n",
      "\n",
      "starting mdrun 'Molecule'\n",
      "3000000 steps,  12000.0 ps.\n",
      "\n",
      "Writing final coordinates.\n",
      "\n",
      "               Core t (s)   Wall t (s)        (%)\n",
      "       Time:     2656.628      221.386     1200.0\n",
      "                 (ns/day)    (hour/ns)\n",
      "Performance:     4683.229        0.005\n",
      "\n",
      "GROMACS reminds you: \"I'll Master Your Language, and In the Meantime I'll Create My Own\" (Tricky)\n",
      "\n"
     ]
    }
   ],
   "source": [
    "!gmx grompp -f simulation.mdp -p {output}/output.top -c {output}/minimization.gro -o {output}/simulation.tpr -po {output}/simulation.mdp\n",
    "!gmx mdrun -deffnm {output}/simulation"
   ]
  },
  {
   "cell_type": "markdown",
   "id": "2fba3db4",
   "metadata": {},
   "source": [
    "After the simulation finished, we can continue with the processing of the trajectories."
   ]
  },
  {
   "cell_type": "markdown",
   "id": "03a9a1d4",
   "metadata": {},
   "source": [
    "## 4. Processing\n",
    "For the simulation we use periodic boundaries. Because these can make the analysis complicated, we use the Gromacs tool `gmx trjconv` with the option `-pbc cluster`. As a result, we obtain a trajectory which allows to observe the assembly of the protein complex."
   ]
  },
  {
   "cell_type": "code",
   "execution_count": 12,
   "id": "b76a0d20",
   "metadata": {
    "scrolled": true
   },
   "outputs": [
    {
     "name": "stdout",
     "output_type": "stream",
     "text": [
      "                      :-) GROMACS - gmx trjconv, 2022 (-:\r\n",
      "\r\n",
      "Executable:   /usr/local/gromacs/bin/gmx\r\n",
      "Data prefix:  /usr/local/gromacs\r\n",
      "Working dir:  /home/GoCa/tutorial\r\n",
      "Command line:\r\n",
      "  gmx trjconv -f output/simulation.xtc -s output/simulation.tpr -o output/simulationNoPBC.xtc -center -pbc cluster\r\n",
      "\r\n",
      "Note that major changes are planned in future for trjconv, to improve usability and utility.\r\n",
      "Will write xtc: Compressed trajectory (portable xdr format): xtc\r\n",
      "Reading file output/simulation.tpr, VERSION 2022 (single precision)\r\n",
      "Reading file output/simulation.tpr, VERSION 2022 (single precision)\r\n",
      "Select group for clustering\r\n",
      "Group     0 (         System) has   396 elements\r\n",
      "Group     1 (        Protein) has   396 elements\r\n",
      "Group     2 (      Protein-H) has   396 elements\r\n",
      "Group     3 (        C-alpha) has   396 elements\r\n",
      "Group     4 (       Backbone) has   396 elements\r\n",
      "Group     5 (      MainChain) has   396 elements\r\n",
      "Group     6 (   MainChain+Cb) has   396 elements\r\n",
      "Group     7 (    MainChain+H) has   396 elements\r\n",
      "Group     8 (      SideChain) has     0 elements\r\n",
      "Group     9 (    SideChain-H) has     0 elements\r\n",
      "Select a group: Selected 0: 'System'\r\n",
      "Select group for centering\r\n",
      "Group     0 (         System) has   396 elements\r\n",
      "Group     1 (        Protein) has   396 elements\r\n",
      "Group     2 (      Protein-H) has   396 elements\r\n",
      "Group     3 (        C-alpha) has   396 elements\r\n",
      "Group     4 (       Backbone) has   396 elements\r\n",
      "Group     5 (      MainChain) has   396 elements\r\n",
      "Group     6 (   MainChain+Cb) has   396 elements\r\n",
      "Group     7 (    MainChain+H) has   396 elements\r\n",
      "Group     8 (      SideChain) has     0 elements\r\n",
      "Group     9 (    SideChain-H) has     0 elements\r\n",
      "Select a group: Selected 0: 'System'\r\n",
      "Select group for output\r\n",
      "Group     0 (         System) has   396 elements\r\n",
      "Group     1 (        Protein) has   396 elements\r\n",
      "Group     2 (      Protein-H) has   396 elements\r\n",
      "Group     3 (        C-alpha) has   396 elements\r\n",
      "Group     4 (       Backbone) has   396 elements\r\n",
      "Group     5 (      MainChain) has   396 elements\r\n",
      "Group     6 (   MainChain+Cb) has   396 elements\r\n",
      "Group     7 (    MainChain+H) has   396 elements\r\n",
      "Group     8 (      SideChain) has     0 elements\r\n",
      "Group     9 (    SideChain-H) has     0 elements\r\n",
      "Select a group: Selected 0: 'System'\r\n",
      "\r\n",
      "Reading frame       0 time    0.000   \r\n",
      "Precision of output/simulation.xtc is 0.001 (nm)\r\n",
      "Using output precision of 0.001 (nm)\r\n",
      "Last frame      30000 time 12000.000   \r\n",
      " ->  frame  30000 time 12000.000      \r\n",
      "\r\n",
      "Last written: frame  30000 time 12000.000\r\n",
      "\r\n",
      "\r\n",
      "GROMACS reminds you: \"C is not a high-level language.\" (Brian Kernighan, C author)\r\n",
      "\r\n"
     ]
    }
   ],
   "source": [
    "!echo -e '0\\n0\\n0\\n' | \\\n",
    "gmx trjconv -f {output}/simulation.xtc -s {output}/simulation.tpr -o {output}/simulationNoPBC.xtc -center -pbc cluster"
   ]
  },
  {
   "cell_type": "markdown",
   "id": "85585fd1",
   "metadata": {},
   "source": [
    "Due to the `-pbc cluster` option, jumps of individual, unassembled chains may occur between trajectory frames. However, this option ensures that already assembled parts of the protein complex are never separated by the periodic boundary conditions. Since we are more interested in the assembly of the complex than in the trajectories of the individual chains, this is not a problem."
   ]
  },
  {
   "cell_type": "markdown",
   "id": "63072607",
   "metadata": {},
   "source": [
    "## 5. Evaluation"
   ]
  },
  {
   "cell_type": "markdown",
   "id": "6c9ff8c4",
   "metadata": {},
   "source": [
    "In the last part of this tutorial we will continue with the analysis of our simulation.  \n",
    "We will use some Python functions provided with the *GoCa* repository to extract different properties from the simulation trajectory.  \n",
    "We start by importing some Python packages:"
   ]
  },
  {
   "cell_type": "code",
   "execution_count": 13,
   "id": "fea5824c",
   "metadata": {},
   "outputs": [],
   "source": [
    "import os\n",
    "import sys\n",
    "import numpy as np\n",
    "import pandas as pd\n",
    "import matplotlib.pyplot as plt\n",
    "sys.path.append(f'{fp}/evaluation')\n",
    "import analysis as goca_analysis\n",
    "import gromacs_analysis as goca_gmx_analysis"
   ]
  },
  {
   "cell_type": "markdown",
   "id": "495f748a",
   "metadata": {},
   "source": [
    "We load the processed trajectory, together with the coarse-grained topology and the structure of the native conformation into a `goca_gmx_analysis.GromacsTrajectory` object, which inherits from the `goca_analysis.Trajectory` class."
   ]
  },
  {
   "cell_type": "code",
   "execution_count": 14,
   "id": "02d79f15",
   "metadata": {},
   "outputs": [],
   "source": [
    "trajectory = goca_gmx_analysis.GromacsTrajectory(\n",
    "    f'{output}/simulationNoPBC.xtc',\n",
    "    f'{output}/output.gro',\n",
    "    f'{output}/output.top'\n",
    ")"
   ]
  },
  {
   "cell_type": "markdown",
   "id": "eed3f271",
   "metadata": {},
   "source": [
    "#### RMSD\n",
    "We start with the analysis of the [RMSD](https://en.wikipedia.org/wiki/Root-mean-square_deviation_of_atomic_positions) of the individual chains and of the entire complex. We iterate over all frames in the trajectory and calculate the RMSD from the native conformation:"
   ]
  },
  {
   "cell_type": "code",
   "execution_count": 15,
   "id": "c43a6361",
   "metadata": {},
   "outputs": [],
   "source": [
    "chains_indices = [trajectory.get_chain_start_stop_indices(i) for i in range(3)] # Individual chains\n",
    "chains_indices += [(0, trajectory.size())] # Complete complex\n",
    "rmsd = np.empty((len(trajectory.get_trajectory()), len(chains_indices)))\n",
    "for i, frame in enumerate(trajectory.get_trajectory()):\n",
    "    rmsd[i] = [\n",
    "        goca_analysis.aligned_rmsd(\n",
    "            frame[cids[0]:cids[1]],\n",
    "            trajectory.get_initial_conformation()[cids[0]:cids[1]]\n",
    "        ) for cids in chains_indices\n",
    "    ]"
   ]
  },
  {
   "cell_type": "code",
   "execution_count": 16,
   "id": "ce1d3c6f",
   "metadata": {},
   "outputs": [
    {
     "data": {
      "image/png": "[encoded data removed]",
      "text/plain": [
       "<Figure size 864x288 with 1 Axes>"
      ]
     },
     "metadata": {
      "needs_background": "light"
     },
     "output_type": "display_data"
    }
   ],
   "source": [
    "plt.figure(figsize=(12, 4))\n",
    "plt.plot(rmsd)\n",
    "plt.legend(['Chain 1', 'Chain 2', 'Chain 3', 'Assembled complex'])\n",
    "plt.ylabel('RMSD / nm')\n",
    "plt.xlabel('Simulation steps')\n",
    "plt.grid(alpha=0.3)\n",
    "plt.show()"
   ]
  },
  {
   "cell_type": "markdown",
   "id": "a4cd08ab",
   "metadata": {},
   "source": [
    "Since we start with a configuration of folded but disassembled chains, the RMSD of each chain is close to zero at the beginning of the trajectory. Furthermore, the RMSDs of the chains remain close to zero, i.e. they remain folded throughout the simulations. In contrast, the RMSD of the entire complex is not close to zero at the beginning of the simulation. However, after about 13000 simulation steps, the RMSD of the protein complex also drops to a value close to zero. This indicates successful assembly of the complex."
   ]
  },
  {
   "cell_type": "markdown",
   "id": "725b1fbb",
   "metadata": {},
   "source": [
    "#### Fraction of native contacts\n",
    "Furthermore, we can analyze the fraction of native contacts within and between the protein chains. Here, native contacts correspond to all native pairs in the topology file as derived from the native conformation. A logistic sigmoid cutoff is used to determine whether two coarse-grained beads form a native contact or not."
   ]
  },
  {
   "cell_type": "code",
   "execution_count": 17,
   "id": "7d78f8cf",
   "metadata": {},
   "outputs": [],
   "source": [
    "fnc_intramolecular = trajectory.get_fraction_of_native_contacts_inside()\n",
    "fnc_intermolecular = trajectory.get_fraction_of_native_contacts_between()"
   ]
  },
  {
   "cell_type": "markdown",
   "id": "b0ccfb23",
   "metadata": {},
   "source": [
    "We plot both fraction of native contact evaluations in the same diagram. Since the topology contains intermolecular native pairs between all possible chain pair combinations and the final assembly contains only three chain pair contacts, we must multiply the intermolecular fraction of native contacts by a factor of three:"
   ]
  },
  {
   "cell_type": "code",
   "execution_count": 18,
   "id": "25ec4ab0",
   "metadata": {},
   "outputs": [
    {
     "data": {
      "image/png": "[encoded data removed]",
      "text/plain": [
       "<Figure size 864x288 with 1 Axes>"
      ]
     },
     "metadata": {
      "needs_background": "light"
     },
     "output_type": "display_data"
    }
   ],
   "source": [
    "plt.figure(figsize=(12, 4))\n",
    "plt.plot(fnc_intramolecular, label=\"Intramolecular FNC\")\n",
    "plt.plot(fnc_intermolecular * 3, label=\"Intermolecular FNC\")\n",
    "plt.ylabel('Fraction of native contacts')\n",
    "plt.xlabel('Simulation steps')\n",
    "plt.grid(alpha=0.3)\n",
    "plt.legend()\n",
    "plt.show()"
   ]
  },
  {
   "cell_type": "markdown",
   "id": "8917a221",
   "metadata": {},
   "source": [
    "This graph complements the findings of the previous graph. The intramolecular FNC remains relatively constant throughout the trajectory (except for small fluctuations). In contrast, the intermolecular FNC starts at about zero. After about 5500 simulation steps, it suddenly increases and then remains relatively constant at that level for about 7500 simulation steps. Finally, it increases again and remains at this level (again with some fluctuations) until the end of the simulation. The intermolecular FNC indicates the two assembly steps of our trimeric protein complex: first, two subunits assemble into a dimer. Second, the dimer binds to the last free chain to form the final trimeric structure."
   ]
  },
  {
   "cell_type": "markdown",
   "id": "e2d004eb",
   "metadata": {},
   "source": [
    "#### Assembly state clustering\n",
    "Finally, we can cluster all the trajectory frames into different assembly states. First, we transform each trajectory frame into a graph object. The nodes of the graph objects correspond to the chains of the protein complex. If two chains are bound, their nodes are connected by an edge. Afterwards, these graphs are used for the clustering of the assembly path."
   ]
  },
  {
   "cell_type": "code",
   "execution_count": 19,
   "id": "478dfd59",
   "metadata": {},
   "outputs": [],
   "source": [
    "graphs = trajectory.get_chain_graph(logging=False)\n",
    "clusters, labels = trajectory.get_chain_formations(graphs, filtering=100)"
   ]
  },
  {
   "cell_type": "code",
   "execution_count": 20,
   "id": "53090350",
   "metadata": {},
   "outputs": [
    {
     "data": {
      "image/png": "[encoded data removed]",
      "text/plain": [
       "<Figure size 864x288 with 1 Axes>"
      ]
     },
     "metadata": {
      "needs_background": "light"
     },
     "output_type": "display_data"
    }
   ],
   "source": [
    "plt.figure(figsize=(12, 4))\n",
    "plt.imshow(clusters, interpolation='nearest', aspect='auto', cmap='Greys', alpha = 0.8)\n",
    "plt.yticks(np.arange(0, len(labels)), labels)\n",
    "plt.ylabel('Assembly state')\n",
    "plt.xlabel('Simulation steps')\n",
    "plt.grid(alpha=0.3)\n",
    "plt.show()"
   ]
  },
  {
   "cell_type": "markdown",
   "id": "de8c7c46",
   "metadata": {},
   "source": [
    "This diagram shows, similar to the previous plot, the assembly path of the three protein chains. In the beginning, all chains are unbound (state 0). After approximately 5500 simulation steps, two chains form a dimer (state 2). After another 7500 steps, the trimeric complex is formed (state 3)."
   ]
  }
 ],
 "metadata": {
  "kernelspec": {
   "display_name": "Python 3",
   "language": "python",
   "name": "python3"
  },
  "language_info": {
   "codemirror_mode": {
    "name": "ipython",
    "version": 3
   },
   "file_extension": ".py",
   "mimetype": "text/x-python",
   "name": "python",
   "nbconvert_exporter": "python",
   "pygments_lexer": "ipython3",
   "version": "3.6.9"
  }
 },
 "nbformat": 4,
 "nbformat_minor": 5
}
